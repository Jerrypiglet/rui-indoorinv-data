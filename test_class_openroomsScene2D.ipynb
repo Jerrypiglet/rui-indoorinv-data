{
 "cells": [
  {
   "cell_type": "code",
   "execution_count": 1,
   "id": "31763854",
   "metadata": {},
   "outputs": [
    {
     "data": {
      "text/html": [
       "<style>.container { width:90% !important; }</style>"
      ],
      "text/plain": [
       "<IPython.core.display.HTML object>"
      ]
     },
     "metadata": {},
     "output_type": "display_data"
    }
   ],
   "source": [
    "%reload_ext autoreload\n",
    "%autoreload 2\n",
    "from IPython.display import display, HTML\n",
    "display(HTML(\"<style>.container { width:90% !important; }</style>\"))"
   ]
  },
  {
   "cell_type": "code",
   "execution_count": 7,
   "id": "0bf8fc19",
   "metadata": {},
   "outputs": [],
   "source": [
    "import cv2\n",
    "from pathlib import Path\n",
    "im_path = '/Users/jerrypiglet/Documents/Projects/OpenRooms_RAW_loader/data/replica_v1/room_0/textures/0-color-ptex.hdr'\n",
    "xx = cv2.imread(im_path, cv2.IMREAD_UNCHANGED)"
   ]
  },
  {
   "cell_type": "code",
   "execution_count": 8,
   "id": "32ddf092",
   "metadata": {},
   "outputs": [
    {
     "ename": "AttributeError",
     "evalue": "'NoneType' object has no attribute 'shape'",
     "output_type": "error",
     "traceback": [
      "\u001b[0;31m---------------------------------------------------------------------------\u001b[0m",
      "\u001b[0;31mAttributeError\u001b[0m                            Traceback (most recent call last)",
      "Input \u001b[0;32mIn [8]\u001b[0m, in \u001b[0;36m<cell line: 1>\u001b[0;34m()\u001b[0m\n\u001b[0;32m----> 1\u001b[0m \u001b[43mxx\u001b[49m\u001b[38;5;241;43m.\u001b[39;49m\u001b[43mshape\u001b[49m, np\u001b[38;5;241m.\u001b[39mamax(xx), np\u001b[38;5;241m.\u001b[39mamin(xx)\n",
      "\u001b[0;31mAttributeError\u001b[0m: 'NoneType' object has no attribute 'shape'"
     ]
    }
   ],
   "source": [
    "xx.shape, np.amax(xx), np.amin(xx)"
   ]
  },
  {
   "cell_type": "code",
   "execution_count": null,
   "id": "1b8e1d51",
   "metadata": {},
   "outputs": [],
   "source": [
    "import sys\n",
    "PATH_HOME = '/Users/jerrypiglet/Documents/Projects/OpenRooms_RAW_loader'\n",
    "# PATH_HOME = '/home/ruizhu/Documents/Projects/dvgomm1'\n",
    "# PATH_HOME = '/usr2/rzh/Documents/Projects/directvoxgorui'\n",
    "sys.path.insert(0, PATH_HOME)\n",
    "from pathlib import Path\n",
    "import numpy as np\n",
    "import matplotlib.pyplot as plt\n",
    "import imageio.v2 as imageio\n",
    "import numpy as np\n",
    "np.set_printoptions(suppress=True)\n",
    "from lib.utils_io import load_matrix, load_img, load_binary, load_h5\n",
    "\n",
    "from lib.class_openroomsScene2D import openroomsScene2D\n",
    "from lib.class_visualizer_openroomsScene_2D import visualizer_openroomsScene_2D\n",
    "\n",
    "from lib.utils_misc import str2bool\n",
    "import argparse\n",
    "parser = argparse.ArgumentParser()\n",
    "parser.add_argument('--vis_2d', type=str2bool, nargs='?', const=True, default=False, help='whether to show projection onto one image with plt (e.g. layout, object bboxes')\n",
    "parser.add_argument('--if_shader', type=str2bool, nargs='?', const=True, default=True, help='')\n",
    "opt = parser.parse_args('--vis_2d True'.split(' '))\n",
    "\n",
    "base_root = Path(PATH_HOME) / 'data/openrooms_scene_dataset_2'\n",
    "xml_root = Path(PATH_HOME) / 'data/openrooms_scene_dataset_2/scenes'\n",
    "intrinsics_path = Path(PATH_HOME) / 'data/intrinsic.txt'\n",
    "semantic_labels_root = Path(PATH_HOME) / 'data'\n",
    "\n",
    "# meta_split = 'main_xml'\n",
    "# scene_name = 'scene0008_00'\n",
    "# frame_ids = [58] + list(range(1, 102, 50)) # scene_name = 'scene0008_00' # every 10; scene0008_00 public_re\n",
    "\n",
    "# scene_name = 'scene0008_00'\n",
    "# frame_ids = [58] + list(range(1, 102, 50)) # scene_name = 'scene0008_00' # every 10; scene0008_00 public_re\n",
    "\n",
    "# scene_name = 'scene0005_00'\n",
    "# frame_ids = [15] + list(range(1, 113, 10))\n",
    "\n",
    "meta_split = 'main_xml1'\n",
    "scene_name = 'scene0552_00_more'\n",
    "frame_ids = list(range(0, 87, 10))\n",
    "\n",
    "openrooms_scene = openroomsScene2D(\n",
    "    root_path_dict = {\n",
    "        'rendering_root': Path(base_root), \n",
    "        'xml_scene_root': Path(xml_root), \n",
    "        'semantic_labels_root': semantic_labels_root, \n",
    "        'intrinsics_path': Path(intrinsics_path)\n",
    "        }, \n",
    "    scene_params_dict={\n",
    "        'meta_split': meta_split, \n",
    "        'scene_name': scene_name, \n",
    "        'frame_id_list': frame_ids}, \n",
    "    modality_list = [\n",
    "        'im_sdr', 'im_hdr', 'seg', 'poses', \n",
    "#         'albedo', 'roughness', \n",
    "#         'depth', 'normal', \n",
    "        'matseg', \n",
    "        # 'lighting_SG', 'lighting_envmap'\n",
    "        ], \n",
    "    # modality_list = ['im_sdr', 'poses', 'depth', 'normal', 'lighting_SG'], \n",
    "    im_params_dict={'im_H_load': 480, 'im_W_load': 640, 'im_H_resize': 240, 'im_W_resize': 320}, \n",
    ")"
   ]
  },
  {
   "cell_type": "code",
   "execution_count": null,
   "id": "63183f07",
   "metadata": {},
   "outputs": [
    {
     "name": "stdout",
     "output_type": "stream",
     "text": [
      "> \u001b[0;32m/Users/jerrypiglet/Documents/Projects/OpenRooms_RAW_loader/lib/utils_vis.py\u001b[0m(25)\u001b[0;36mvis_index_map\u001b[0;34m()\u001b[0m\n",
      "\u001b[0;32m     24 \u001b[0;31m    \u001b[0;32mimport\u001b[0m \u001b[0mipdb\u001b[0m\u001b[0;34m;\u001b[0m \u001b[0mipdb\u001b[0m\u001b[0;34m.\u001b[0m\u001b[0mset_trace\u001b[0m\u001b[0;34m(\u001b[0m\u001b[0;34m)\u001b[0m\u001b[0;34m\u001b[0m\u001b[0;34m\u001b[0m\u001b[0m\n",
      "\u001b[0m\u001b[0;32m---> 25 \u001b[0;31m    \u001b[0mindex_map_vis\u001b[0m \u001b[0;34m=\u001b[0m \u001b[0mnp\u001b[0m\u001b[0;34m.\u001b[0m\u001b[0mzeros\u001b[0m\u001b[0;34m(\u001b[0m\u001b[0;34m(\u001b[0m\u001b[0mindex_map\u001b[0m\u001b[0;34m.\u001b[0m\u001b[0mshape\u001b[0m\u001b[0;34m[\u001b[0m\u001b[0;36m0\u001b[0m\u001b[0;34m]\u001b[0m\u001b[0;34m,\u001b[0m \u001b[0mindex_map\u001b[0m\u001b[0;34m.\u001b[0m\u001b[0mshape\u001b[0m\u001b[0;34m[\u001b[0m\u001b[0;36m1\u001b[0m\u001b[0;34m]\u001b[0m\u001b[0;34m,\u001b[0m \u001b[0;36m3\u001b[0m\u001b[0;34m)\u001b[0m\u001b[0;34m)\u001b[0m\u001b[0;34m\u001b[0m\u001b[0;34m\u001b[0m\u001b[0m\n",
      "\u001b[0m\u001b[0;32m     26 \u001b[0;31m    \u001b[0;32mfor\u001b[0m \u001b[0mcolor_idx\u001b[0m\u001b[0;34m,\u001b[0m \u001b[0mcolor\u001b[0m \u001b[0;32min\u001b[0m \u001b[0menumerate\u001b[0m\u001b[0;34m(\u001b[0m\u001b[0mcolors\u001b[0m\u001b[0;34m)\u001b[0m\u001b[0;34m:\u001b[0m\u001b[0;34m\u001b[0m\u001b[0;34m\u001b[0m\u001b[0m\n",
      "\u001b[0m\n",
      "ipdb> colors\n",
      "[(0.9517318861892078, 0.07813224910292893, 0.07813224910292893), (0.9966570688053223, 0.47762688763641825, 0.03274387520592892), (0.9899922600684502, 0.9256512527984059, 0.15355916555787374), (0.6252387959950703, 0.9801479514868057, 0.0573841472082941), (0.2627536455968145, 0.9985373270461699, 0.12897479442420434), (0.1676811500120865, 0.9574113864993419, 0.41067506893124195), (0.21390389136839405, 0.9603771463172456, 0.7881140874828955), (0.20303901300459692, 0.8010518431056914, 0.9804556921360206), (0.1613859555690934, 0.4124027709316086, 0.9771906054972689), (0.27712870390152494, 0.15252063840809094, 0.962473064115415), (0.6695686641508707, 0.1427676270331747, 0.9988193123494319), (0.9645847992420177, 0.22299779098160732, 0.9075396447604468), (0.9622017502044101, 0.21593492324457786, 0.5603657664568074)]\n",
      "ipdb> colors[0]\n",
      "(0.9517318861892078, 0.07813224910292893, 0.07813224910292893)\n",
      "ipdb> colors[1]\n",
      "(0.9966570688053223, 0.47762688763641825, 0.03274387520592892)\n"
     ]
    }
   ],
   "source": [
    "if opt.vis_2d:\n",
    "    vis_2D = visualizer_openroomsScene_2D(\n",
    "        openrooms_scene, \n",
    "        modality_list=[\n",
    "            'matseg', \n",
    "#             'depth', 'normal', 'albedo', 'roughness', \n",
    "            ], \n",
    "        frame_idx_list=[0, 1, 2, 3, 4], # 0-based indexing of all selected frames\n",
    "    )\n",
    "    vis_2D.vis_2d_with_plt()"
   ]
  },
  {
   "cell_type": "code",
   "execution_count": 21,
   "id": "b61950f3",
   "metadata": {
    "scrolled": false
   },
   "outputs": [
    {
     "data": {
      "image/png": "[encoded data removed]",
      "text/plain": [
       "<Figure size 640x480 with 2 Axes>"
      ]
     },
     "metadata": {},
     "output_type": "display_data"
    }
   ],
   "source": [
    "a = openrooms_scene.matseg_list[0]\n",
    "a.keys()\n",
    "mat_aggre_map = a['mat_aggre_map']\n",
    "instance = a['instance']\n",
    "semantic = a['semantic']\n",
    "\n",
    "plt.figure()\n",
    "plt.imshow(semantic.numpy().squeeze())\n",
    "plt.colorbar()\n",
    "plt.show()\n",
    "# for _ in instance:\n",
    "#     _ = _.numpy()\n",
    "#     plt.figure()\n",
    "#     plt.imshow(_)\n",
    "#     plt.colorbar()\n",
    "#     plt.show()"
   ]
  },
  {
   "cell_type": "code",
   "execution_count": 11,
   "id": "a1743d09",
   "metadata": {},
   "outputs": [
    {
     "ename": "RuntimeError",
     "evalue": "No mappable was found to use for colorbar creation. First define a mappable such as an image (with imshow) or a contour set (with contourf).",
     "output_type": "error",
     "traceback": [
      "\u001b[0;31m---------------------------------------------------------------------------\u001b[0m",
      "\u001b[0;31mRuntimeError\u001b[0m                              Traceback (most recent call last)",
      "Input \u001b[0;32mIn [11]\u001b[0m, in \u001b[0;36m<cell line: 9>\u001b[0;34m()\u001b[0m\n\u001b[1;32m      7\u001b[0m plt\u001b[38;5;241m.\u001b[39mfigure()\n\u001b[1;32m      8\u001b[0m \u001b[38;5;66;03m# plt.imshow(mat_aggre_map==0)\u001b[39;00m\n\u001b[0;32m----> 9\u001b[0m \u001b[43mplt\u001b[49m\u001b[38;5;241;43m.\u001b[39;49m\u001b[43mcolorbar\u001b[49m\u001b[43m(\u001b[49m\u001b[43m)\u001b[49m\n\u001b[1;32m     10\u001b[0m plt\u001b[38;5;241m.\u001b[39mshow()\n",
      "File \u001b[0;32m~/miniconda3/envs/dvgo-py38/lib/python3.8/site-packages/matplotlib/pyplot.py:2103\u001b[0m, in \u001b[0;36mcolorbar\u001b[0;34m(mappable, cax, ax, **kw)\u001b[0m\n\u001b[1;32m   2101\u001b[0m     mappable \u001b[38;5;241m=\u001b[39m gci()\n\u001b[1;32m   2102\u001b[0m     \u001b[38;5;28;01mif\u001b[39;00m mappable \u001b[38;5;129;01mis\u001b[39;00m \u001b[38;5;28;01mNone\u001b[39;00m:\n\u001b[0;32m-> 2103\u001b[0m         \u001b[38;5;28;01mraise\u001b[39;00m \u001b[38;5;167;01mRuntimeError\u001b[39;00m(\u001b[38;5;124m'\u001b[39m\u001b[38;5;124mNo mappable was found to use for colorbar \u001b[39m\u001b[38;5;124m'\u001b[39m\n\u001b[1;32m   2104\u001b[0m                            \u001b[38;5;124m'\u001b[39m\u001b[38;5;124mcreation. First define a mappable such as \u001b[39m\u001b[38;5;124m'\u001b[39m\n\u001b[1;32m   2105\u001b[0m                            \u001b[38;5;124m'\u001b[39m\u001b[38;5;124man image (with imshow) or a contour set (\u001b[39m\u001b[38;5;124m'\u001b[39m\n\u001b[1;32m   2106\u001b[0m                            \u001b[38;5;124m'\u001b[39m\u001b[38;5;124mwith contourf).\u001b[39m\u001b[38;5;124m'\u001b[39m)\n\u001b[1;32m   2107\u001b[0m ret \u001b[38;5;241m=\u001b[39m gcf()\u001b[38;5;241m.\u001b[39mcolorbar(mappable, cax\u001b[38;5;241m=\u001b[39mcax, ax\u001b[38;5;241m=\u001b[39max, \u001b[38;5;241m*\u001b[39m\u001b[38;5;241m*\u001b[39mkw)\n\u001b[1;32m   2108\u001b[0m \u001b[38;5;28;01mreturn\u001b[39;00m ret\n",
      "\u001b[0;31mRuntimeError\u001b[0m: No mappable was found to use for colorbar creation. First define a mappable such as an image (with imshow) or a contour set (with contourf)."
     ]
    },
    {
     "data": {
      "text/plain": [
       "<Figure size 640x480 with 0 Axes>"
      ]
     },
     "metadata": {},
     "output_type": "display_data"
    }
   ],
   "source": [
    "plt.figure()\n",
    "plt.imshow(mat_aggre_map==0)\n",
    "plt.colorbar()\n",
    "plt.show()"
   ]
  }
 ],
 "metadata": {
  "kernelspec": {
   "display_name": "or-py310",
   "language": "python",
   "name": "or-py310"
  },
  "language_info": {
   "codemirror_mode": {
    "name": "ipython",
    "version": 3
   },
   "file_extension": ".py",
   "mimetype": "text/x-python",
   "name": "python",
   "nbconvert_exporter": "python",
   "pygments_lexer": "ipython3",
   "version": "3.10.8"
  }
 },
 "nbformat": 4,
 "nbformat_minor": 5
}
