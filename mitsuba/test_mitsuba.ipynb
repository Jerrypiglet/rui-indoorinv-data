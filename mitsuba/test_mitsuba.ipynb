{
 "cells": [
  {
   "cell_type": "code",
   "execution_count": 32,
   "id": "54987c49",
   "metadata": {},
   "outputs": [],
   "source": [
    "import torch\n",
    "import numpy as np\n",
    "import mitsuba\n",
    "\n",
    "def torch2mi(x):\n",
    "    \"\"\"coordinate conversion from synthetic nerf to mistuba\"\"\"\n",
    "    ret = x[:,[0,2,1]]\n",
    "    ret = torch.tensor([[1,1,-1]],device=x.device)*ret\n",
    "    return ret\n",
    "def mi2torch(x):\n",
    "    \"\"\"coordinate conversion from mistuba to synthetic nerf\"\"\"\n",
    "    ret = torch.tensor([[1,1,-1]],device=x.device)*x\n",
    "    return ret[:,[0,2,1]]\n",
    "\n",
    "mitsuba.set_variant('llvm_ad_rgb') # gpu auto differetial rgb\n",
    "# scene stored in xml file, has the structure:\n",
    "#<scene version=\"3.0.0\">\n",
    "#    <shape type=\"obj\">\n",
    "#        <string name=\"filename\" value=\"room.obj\"/>\n",
    "#    </shape>\n",
    "#</scene>\n",
    "scene = mitsuba.load_file('scene.xml')\n",
    "\n",
    "xs = np.zeros((1, 3), dtype=np.float32)\n",
    "# ds = np.random.rand(10, 3)\n",
    "ds = np.repeat(np.array([[0., 1., 0.]]), 10, axis=0)\n",
    "xs_mi = mitsuba.Point3f(xs)\n",
    "ds_mi = mitsuba.Vector3f(ds)\n",
    "# ray origin, direction, t_max\n",
    "rays_mi = mitsuba.Ray3f(xs_mi,ds_mi,mitsuba.Float(6.0))\n",
    "ret = scene.ray_intersect(rays_mi)\n",
    "# returned structure contains intersection location, nomral, ray step, ...\n",
    "positions = mi2torch(ret.p.torch())\n",
    "normals = mi2torch(ret.n.torch())\n",
    "ts  = ret.t.torch()"
   ]
  },
  {
   "cell_type": "code",
   "execution_count": 36,
   "id": "f49c8b54",
   "metadata": {},
   "outputs": [
    {
     "data": {
      "text/plain": [
       "(10,)"
      ]
     },
     "execution_count": 36,
     "metadata": {},
     "output_type": "execute_result"
    }
   ],
   "source": [
    "np.linalg.norm(ds, axis=1).shape"
   ]
  }
 ],
 "metadata": {
  "kernelspec": {
   "display_name": "Python 3.8.13 ('dvgo-py38')",
   "language": "python",
   "name": "python3"
  },
  "language_info": {
   "codemirror_mode": {
    "name": "ipython",
    "version": 3
   },
   "file_extension": ".py",
   "mimetype": "text/x-python",
   "name": "python",
   "nbconvert_exporter": "python",
   "pygments_lexer": "ipython3",
   "version": "3.8.13"
  },
  "vscode": {
   "interpreter": {
    "hash": "16051c622754e8af59a3040d504cc65f0209d2be1664fcd5d03e4ec2202e555f"
   }
  }
 },
 "nbformat": 4,
 "nbformat_minor": 5
}
